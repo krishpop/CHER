{
 "cells": [
  {
   "cell_type": "code",
   "execution_count": 1,
   "metadata": {},
   "outputs": [],
   "source": [
    "from stable_baselines import HER, SAC\n",
    "from stable_baselines.common.atari_wrappers import FrameStack\n",
    "import three_finger.envs\n",
    "\n",
    "import gym\n",
    "import os\n",
    "import os.path as osp\n",
    "import time\n",
    "\n",
    "exp_root = './experiments'\n",
    "hms_time = time.strftime(\"%Y-%m-%d_%H-%M-%S\")\n",
    "exp_name = 'HER_3F_drop_sparse_1e6'\n",
    "\n",
    "exp_dir = osp.join(exp_root, exp_name, hms_time)\n",
    "os.makedirs(exp_dir)\n",
    "\n",
    "env = gym.make('Gripper2DSamplePose-v2', reward_type='sparse')\n",
    "\n",
    "model = HER('MlpPolicy', env, SAC, n_sampled_goal=4,\n",
    "            tensorboard_log=exp_dir,\n",
    "            goal_selection_strategy='future',\n",
    "            verbose=1, buffer_size=int(1e6),\n",
    "            learning_rate=1e-3,\n",
    "            gamma=0.95, batch_size=256,\n",
    "            policy_kwargs=dict(layers=[256, 256, 256]))\n",
    "\n",
    "# Train for 1e6 steps\n",
    "model.learn(int(1e6),)\n",
    "# Save the trained agent\n",
    "model.save(exp_name)"
   ]
  }
 ],
 "metadata": {
  "kernelspec": {
   "display_name": "Python 3",
   "language": "python",
   "name": "python3"
  },
  "language_info": {
   "codemirror_mode": {
    "name": "ipython",
    "version": 3
   },
   "file_extension": ".py",
   "mimetype": "text/x-python",
   "name": "python",
   "nbconvert_exporter": "python",
   "pygments_lexer": "ipython3",
   "version": "3.6.6"
  }
 },
 "nbformat": 4,
 "nbformat_minor": 4
}
